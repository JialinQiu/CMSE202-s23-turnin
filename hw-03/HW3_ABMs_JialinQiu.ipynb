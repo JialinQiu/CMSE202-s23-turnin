{
 "cells": [
  {
   "cell_type": "markdown",
   "metadata": {},
   "source": [
    "# Homework Assignment 3 (Individual)\n",
    "\n",
    "---"
   ]
  },
  {
   "cell_type": "markdown",
   "metadata": {},
   "source": [
    "### <p style=\"text-align: right;\"> &#9989; Jialin Qiu</p>"
   ]
  },
  {
   "cell_type": "markdown",
   "metadata": {},
   "source": [
    "\n",
    "---\n",
    "## Creating a natural selection model using ABMs and OOP\n",
    "\n",
    "In this homework, we have two sections.\n",
    "\n",
    "- **Part A: Git practice**\n",
    "- **Part B: ABM + OOP: Simulating animal populations -- Natural selection and adaptation**\n",
    "\n",
    "<img src=\"https://raw.githubusercontent.com/huichiayu/cmse_202_802/main/IMGs/rock_mice.jpg\" border=\"0\" align=\"center\" width=\"600\">\n",
    "image found online.\n",
    "\n",
    "\n",
    "### Goal for this homework assignment\n",
    "By now, you have learned ABM and OOP through the assignments of assembling Zoo and Superbugs. Let's use those skills to build a simple fun model of natural selection. \n",
    "\n",
    "**This assignment is due roughly two weeks from now at 11:59 pm on Friday, March 31.** It should be uploaded into the \"Homework Assignments\" submission folder for Homework #3, as well as GitHub turn-in repo.  Submission instructions can be found at the end of the notebook. **The distribution of points can be found in the section headers**.\n"
   ]
  },
  {
   "cell_type": "markdown",
   "metadata": {},
   "source": [
    "---\n",
    "## Part 0: Upload this file to your Git repository to track your progress on your assignment (15 pt)\n",
    "\n",
    "#### Note: This is different from previous assignments!\n",
    "\n",
    "You will add this homework assignment to your GutHub repository you created for previous homework so that you can track your progress on the assignment and preserve the final version that you turn in. We also want you to get practice with **branching**, as that will be important and useful for your group projects. \n",
    "\n",
    "**&#9989; Do the following**:\n",
    "\n",
    "\n",
    "1. Navigate to your `cmse202-s23-turnin` repository \n",
    "2. Create a new branch called `hw03_branch` and move into it. \n",
    "3. Create a new directory called `hw-03`.\n",
    "4. Move this notebook into that **new directory**, then **add** and **commit** it. \n",
    "5. Finally, to test that everything is working, `git push` the file and new branch so they end up in your GitHub repository. \n",
    "\n",
    "**Important**: Make sure to add your Professor and TA as collaborators of this respository with \"Read\" access so that we can see your assignment (you should have done this in the previous homework assignment)\n",
    "\n",
    "**Also**: Make sure that the version of this notebook that you are working on is the same one that you just added to your repository! If you are working on a different copy of the noteobok, **none of your changes will be tracked**!\n",
    "\n",
    "If everything went as intended, the file should now show up on your GitHub account in the `cmse202-s23-turnin` repository inside the `hw-03` directory and `hw-03` branch that you just created.  Periodically, **you'll be asked to commit your changes and push them to the remote GitHub location**. Of course, you can always commit your changes more often than that, if you wish.  It will be good to develop a habit of committing your changes any time you make a significant modification, or when you stop working on the project for a bit.\n",
    "\n"
   ]
  },
  {
   "cell_type": "markdown",
   "metadata": {},
   "source": [
    "---\n",
    "\n",
    "# A natural selection model\n",
    "For this homework assignment, you will be building an Agent-Based Model (ABM) that simulates natural selection in action. You will build two classes for mice, which inhabit the world, and one class for a (predator) hawk. The mice have different fur color, which allows them to blend in better (or worse) with their environment. This model is (loosely) based on an actual case of natural selection involving the [Peppered Moth](https://en.wikipedia.org/wiki/Peppered_moth_evolution).\n",
    "\n",
    "For this assignment, you will be working with an environment class, which will allow you to actually run your simulation. We've also provided you with a generic `Animal_Agent`, which you will use to build your own classes for the natural selection model. You will need to download the generic `Animal_Agent` class and `Environment` class. You can find them here:\n",
    "\n",
    "- `https://raw.githubusercontent.com/msu-cmse-courses/cmse202-S23-data/main/HW/HW3/Animal_Agent_Class.py`\n",
    "- `https://raw.githubusercontent.com/msu-cmse-courses/cmse202-S23-data/main/HW/HW3/Environment.py`"
   ]
  },
  {
   "cell_type": "markdown",
   "metadata": {},
   "source": [
    "## 1. Building Up an Environment with Animal Agents\n",
    "\n",
    "\n",
    "\n",
    "### 1.1 (5 Points)\n",
    "\n",
    "Spend some time exploring the new classes a bit. **Write a few sentences giving a high-level description of how this model works. What are the different classes? What do they do? How can they be used to create an Agent-Based Model?**\n"
   ]
  },
  {
   "cell_type": "markdown",
   "metadata": {},
   "source": [
    "This model has two classes named `Animal_Agent` and `Environment`. The `Animal_Agent` Class uses random, numpy, math, matplotlib.pyplot and itertools to represent an animal agent object, an autonomous agent that can interact with other agents. All these animal agents have attributes like age, age limit, sex, color, shape and so on. And accordind to the description of the class, predators can hunt prey, prey can procreate, and both predator and prey can move around and age. The `Environment` Class can show a whole environment where the animal agents interact with each other (preys and predators). We can add agent, set time, set board size and visualize the process. The output of the `Animal_Agent` turns into the input of the `Environment`, which creats an ABM that allows us to learn how the animal agents (preys and predators) behave and interact in the environment."
   ]
  },
  {
   "cell_type": "markdown",
   "metadata": {},
   "source": [
    "### 1.2 (15 Points)\n",
    "\n",
    "Construct a new `Environment` object and a new `Animal_Agent` object. Specify that the `Animal_Agent` object is a female. Add the `Animal_Agent` object to the `Environment` object. Run the `simulation` method. You should see there's a bug in the code. **Fix the bug and explain what the cause was.**"
   ]
  },
  {
   "cell_type": "code",
   "execution_count": 17,
   "metadata": {},
   "outputs": [],
   "source": [
    "#Write your code here\n",
    "import Animal_Agent_Class\n",
    "from Animal_Agent_Class import Animal_Agent\n",
    "import Environment\n",
    "from Environment import Environment"
   ]
  },
  {
   "cell_type": "code",
   "execution_count": 18,
   "metadata": {
    "scrolled": false
   },
   "outputs": [
    {
     "data": {
      "image/png": "[encoded data removed]",
      "text/plain": [
       "<Figure size 432x432 with 1 Axes>"
      ]
     },
     "metadata": {
      "needs_background": "light"
     },
     "output_type": "display_data"
    }
   ],
   "source": [
    "environment = Environment()\n",
    "animal_1 = Animal_Agent(sex=\"F\")\n",
    "environment.add_agent(animal_1)\n",
    "environment.simulate(5)"
   ]
  },
  {
   "cell_type": "markdown",
   "metadata": {},
   "source": [
    "I fixed the bug bug here. The bug shows that TypeError: unsupported operand type(s) for -: 'list' and 'int', which means that a list and a integer are trying to minus. The TypeError also pointed out which line of the class caused this error. So I looked back at the `Environment` Class notebook. All the problem is from the procreat function under the simulate function. Because this is an Agent-Based Model, I looked back to the `Animal_Agent` Class to see the procreat function and found out that the procreat function needs three attributions that are self, all_agents and time. But in the simulation function under the `Environment` Class, the time is not behind all_agents. So I switched the order of these two in this function and also the simulate_plot_populations function below."
   ]
  },
  {
   "cell_type": "markdown",
   "metadata": {},
   "source": [
    "### 1.3 (5 Points)\n",
    "\n",
    "**In the cell below, copy your `simulation` code from above and rerun it with the bug fixed to show how the animal runs around.** You should use the `set_allele()` method in the `Animal_Agent` class to randomly assign two alleles to your `Animal_Agent` object.\n"
   ]
  },
  {
   "cell_type": "code",
   "execution_count": 19,
   "metadata": {
    "scrolled": false
   },
   "outputs": [
    {
     "data": {
      "image/png": "[encoded data removed]",
      "text/plain": [
       "<Figure size 432x432 with 1 Axes>"
      ]
     },
     "metadata": {
      "needs_background": "light"
     },
     "output_type": "display_data"
    }
   ],
   "source": [
    "#Write your code here\n",
    "animal_1.set_allele(1, 1)\n",
    "environment.simulate(5)"
   ]
  },
  {
   "cell_type": "markdown",
   "metadata": {},
   "source": [
    "### 1.4 (5 Points)\n",
    "\n",
    "**Now add in a predator and let it evolve. Do you see the predator hunting the prey object?** Make sure to set the `ptype` to predator, and the `shape` and `color` to be something different from the prey you defined above (E.g., a shape of \"P\" and a color of \"red\".)"
   ]
  },
  {
   "cell_type": "code",
   "execution_count": 20,
   "metadata": {
    "scrolled": false
   },
   "outputs": [
    {
     "data": {
      "image/png": "[encoded data removed]",
      "text/plain": [
       "<Figure size 432x432 with 1 Axes>"
      ]
     },
     "metadata": {
      "needs_background": "light"
     },
     "output_type": "display_data"
    }
   ],
   "source": [
    "#Write your code here\n",
    "predator = Animal_Agent(ptype=\"Predator\", shape='P', color='red')\n",
    "\n",
    "environment.add_agent(predator)\n",
    "environment.simulate(50)\n",
    "\n",
    "#Yes, I see. The red dot touched the yellow one, and then the yellow one disappeared."
   ]
  },
  {
   "cell_type": "markdown",
   "metadata": {},
   "source": [
    "### 1.5 (15 Points)\n",
    "\n",
    "**Now add *multiple* predator and prey agents ($N > 1$ for both). Find a combination of $N_{\\mathrm{Prey}}$ and $N_{\\mathrm{Predator}}$ where the Prey can maintain a sustainable population (I.e., they aren't wiped out in the long run).**\n",
    "\n",
    "- **NOTE 1:** Make sure you add both male and female Prey, so they can `Procreate`. \n",
    "- **NOTE 2:** We recommend using the `simulate_plot_populations()` method, so you can monitor the growth/decline of populations."
   ]
  },
  {
   "cell_type": "code",
   "execution_count": 21,
   "metadata": {
    "scrolled": false
   },
   "outputs": [
    {
     "data": {
      "image/png": "[encoded data removed]",
      "text/plain": [
       "<Figure size 432x432 with 1 Axes>"
      ]
     },
     "metadata": {
      "needs_background": "light"
     },
     "output_type": "display_data"
    },
    {
     "data": {
      "image/png": "[encoded data removed]",
      "text/plain": [
       "<Figure size 432x288 with 1 Axes>"
      ]
     },
     "metadata": {
      "needs_background": "light"
     },
     "output_type": "display_data"
    }
   ],
   "source": [
    "# Creat prey agents that are half males half femals\n",
    "p1 = Animal_Agent(sex = 'F')\n",
    "p1.set_allele(0, 0)\n",
    "p2 = Animal_Agent(sex = 'M')\n",
    "p2.set_allele(1, 1)\n",
    "p3 = Animal_Agent(sex = 'F')\n",
    "p3.set_allele(0, 0)\n",
    "p4 = Animal_Agent(sex = 'M')\n",
    "p4.set_allele(1, 1)\n",
    "p5 = Animal_Agent(sex = 'F')\n",
    "p5.set_allele(1, 1)\n",
    "p6 = Animal_Agent(sex = 'M')\n",
    "p6.set_allele(0, 1)\n",
    "p7 = Animal_Agent(sex = 'F')\n",
    "p7.set_allele(0, 0)\n",
    "p8 = Animal_Agent(sex = 'M')\n",
    "p8.set_allele(1, 1)\n",
    "p9 = Animal_Agent(sex = 'F')\n",
    "p9.set_allele(0, 0)\n",
    "p0 = Animal_Agent(sex = 'M')\n",
    "p0.set_allele(1, 1)\n",
    "\n",
    "# Creat three predators\n",
    "P1 = Animal_Agent(ptype = 'Predator', shape = 'P', color = 'red')\n",
    "P2 = Animal_Agent(ptype = 'Predator', shape = 'P', color = 'red')\n",
    "#P3 = Animal_Agent(ptype = 'Predator', shape = 'P', color = 'red')\n",
    "\n",
    "# Add agents to the environment\n",
    "environment.add_agent(p1)\n",
    "environment.add_agent(p2)\n",
    "environment.add_agent(p3)\n",
    "environment.add_agent(p4)\n",
    "environment.add_agent(p5)\n",
    "environment.add_agent(p6)\n",
    "environment.add_agent(p7)\n",
    "environment.add_agent(p8)\n",
    "environment.add_agent(p9)\n",
    "environment.add_agent(p0)\n",
    "environment.add_agent(P1)\n",
    "environment.add_agent(P2)\n",
    "#environment.add_agent(P3)\n",
    "\n",
    "environment.simulate(50)\n",
    "environment.simulate_plot_populations(50)"
   ]
  },
  {
   "cell_type": "markdown",
   "metadata": {},
   "source": [
    "### 1.6 (5 Points)\n",
    "\n",
    "**How does the population evolve over time? (I.e., is it linear? Periodic? etc.) What causes this shape? How does the population of light brown and dark brown prey differ (if at all)?**"
   ]
  },
  {
   "cell_type": "markdown",
   "metadata": {},
   "source": [
    "The population evolves over time as periodic. The total time and the move steps causes this ship, because while the preys are moving, there are chance that they will be caught by the predators. The procreat function is used to have the new prey. There are peaks and valleys in population numbers. The population of light brown and dark brown prey have a great different based on the simulate_plot_populations function."
   ]
  },
  {
   "cell_type": "markdown",
   "metadata": {},
   "source": [
    "## 2. Refining the Model\n",
    "\n",
    "For this part, we're going to use our generic `Animal_Agent`class to construct child classes that represent *specific* animal species for both our predator and prey animals. Specifically, we'll be making a `Mouse` child class for the prey and a `Hawk` child class for the predator. **We'll use these new child classes to run our natural selection model.**\n",
    "\n",
    "### 2.1 (15 Points)\n",
    "\n",
    "Create a new `Mouse` child class, using the `Animal_Agent` as the parent class. The `Mouse` class will largely be the same as the `Animal_Agent` class except for two details: \n",
    "\n",
    "1. **In the `set_allele` method, add a new class attribute called `catch_probability`. For the light-brown mice, set `catch_probability` to 0.95. For dark brown mice, set the `catch_probability` to 0.05.**\n",
    "2. **Change the `Procreate` method so that they create new `Mouse` animal objects.**\n",
    "\n"
   ]
  },
  {
   "cell_type": "code",
   "execution_count": 56,
   "metadata": {},
   "outputs": [],
   "source": [
    "#Write your code here\n",
    "import random \n",
    "import numpy as np\n",
    "import math\n",
    "import matplotlib.pyplot as plt\n",
    "import itertools\n",
    "\n",
    "class Mouse(Animal_Agent):\n",
    "    \n",
    "    def __init__(self, xmax=100,ymax=100,ptype=\"Prey\",sex=\"M\",age_limit=50,catch_radius=10,mate_range=5,gestation=8,shape=\"o\",color=\"saddlebrown\",saturation_pop=150):\n",
    "        self.x = random.randint(0, xmax)\n",
    "        self.y = random.randint(0, ymax)\n",
    "        self.age = 0 \n",
    "        self.ptype = ptype\n",
    "        self.age_limit = age_limit\n",
    "        self.catch_radius = catch_radius\n",
    "        self.xmax = xmax\n",
    "        self.ymax = ymax\n",
    "        self.sex = sex\n",
    "        self.gestation = gestation\n",
    "        self.last_litter_time = 1\n",
    "        self.mate_range = mate_range \n",
    "        self.color = color\n",
    "        self.shape = shape\n",
    "        self.saturation_pop = saturation_pop\n",
    "        self.is_caught = False\n",
    "        \n",
    "    def roaming(self,vx=7,vy=7): \n",
    "        dx = np.random.randint(-vx,vx)\n",
    "        dy = np.random.randint(-vy,vy)\n",
    "\n",
    "        if (self.x + dx > self.xmax) or (self.x + dx < 0):\n",
    "            self.x -= dx\n",
    "        else:\n",
    "            self.x += dx\n",
    "\n",
    "        if (self.y + dy > self.ymax) or (self.y + dy < 0):\n",
    "            self.y -= dy\n",
    "        else:\n",
    "            self.y += dy\n",
    "        \n",
    "    def set_allele(self, alle_d, alle_m):\n",
    "        self.alle_d = alle_d\n",
    "        self.alle_m = alle_m\n",
    "        if self.alle_d + self.alle_m >= 1:\n",
    "            self.color = 'goldenrod'\n",
    "            self.catch_probability = 0.95\n",
    "        else:\n",
    "            self.color = \"saddlebrown\" \n",
    "            self.catch_probability = 0.05\n",
    "            \n",
    "    def draw(self,ax):\n",
    "        ax.scatter(self.x, self.y, s=24.0, c=self.color, marker=self.shape)   \n",
    "    \n",
    "    def aging(self):\n",
    "        self.age += 1\n",
    "\n",
    "    def check_if_dead(self):\n",
    "        if self.age > self.age_limit:\n",
    "            return True\n",
    "        else:\n",
    "            return False\n",
    "\n",
    "\n",
    "    def get_distance(self,agent):\n",
    "        return math.sqrt((self.x-agent.x)**2 + (self.y-agent.y)**2)\n",
    "    \n",
    "    def hunt(self,all_agents):\n",
    "        for agent in all_agents:\n",
    "            if (agent.ptype == \"Prey\") and (agent.age < agent.age_limit) and not (agent.is_caught):\n",
    "                if self.get_distance(agent) < self.catch_radius:\n",
    "                    agent.is_caught = True\n",
    "                    return agent       \n",
    "        return False\n",
    "            \n",
    "    def procreate(self,all_agents,time):\n",
    "        child_list = []\n",
    "        val = random.random()\n",
    "        if (self.sex == 'F') and (np.mod(abs(time-self.last_litter_time),self.gestation) == 0):\n",
    "            for agent in all_agents:\n",
    "                if (agent.ptype==\"Prey\") and (agent.sex == \"M\") and (self.get_distance(agent) <= self.mate_range) and (val > (1.0/(1.0+np.exp(-len(all_agents)/self.saturation_pop)))):\n",
    "                    child_num = int(np.random.normal(7,1))\n",
    "                    for jj in range(child_num):\n",
    "                        mom_a = self.alle_d\n",
    "                        if np.random.randint(0,2) == 1:\n",
    "                            mom_a = self.alle_m\n",
    "                        dad_a = agent.alle_d\n",
    "                        if np.random.randint(0,2) == 1:\n",
    "                            dad_a = agent.alle_m               \n",
    "                        child = Mouse(sex=\"F\")\n",
    "                        if np.random.randint(0,2) == 1:\n",
    "                            child = Mouse(sex=\"M\")\n",
    "                        child.set_allele(dad_a,mom_a)\n",
    "                        child_list.append(child)\n",
    "                    self.last_litter_time = time\n",
    "                    break\n",
    "\n",
    "        return child_list"
   ]
  },
  {
   "cell_type": "markdown",
   "metadata": {},
   "source": [
    "### 2.2 (10 Points)\n",
    "\n",
    "Create a new `Hawk` child class, using the `Animal_Agent` as the parent class. The `Hawk` class will largely be the same as the `Animal_Agent` class except for one detail: **In the `hunt` method, incorporate the `catch_probability` of the predator, such that it is harder for a `Hawk` to catch a `Mouse` with a lower `catch_probability`.**"
   ]
  },
  {
   "cell_type": "code",
   "execution_count": 57,
   "metadata": {},
   "outputs": [],
   "source": [
    "#Write your code here\n",
    "class Hawk(Animal_Agent):\n",
    "    def __init__(self, xmax=100,ymax=100,ptype=\"Predator\",sex=\"M\",age_limit=50,catch_radius=10,mate_range=5,gestation=8,shape=\"o\",color=\"saddlebrown\",saturation_pop=150):\n",
    "        self.x = random.randint(0, xmax)\n",
    "        self.y = random.randint(0, ymax)\n",
    "        self.age = 0 \n",
    "        self.ptype = ptype\n",
    "        self.age_limit = age_limit\n",
    "        self.catch_radius = catch_radius\n",
    "        self.xmax = xmax\n",
    "        self.ymax = ymax\n",
    "        self.sex = sex\n",
    "        self.gestation = gestation\n",
    "        self.last_litter_time = 1\n",
    "        self.mate_range = mate_range \n",
    "        self.color = color\n",
    "        self.shape = shape\n",
    "        self.saturation_pop = saturation_pop\n",
    "        self.is_caught = False\n",
    "        \n",
    "    def hunt(self,all_agents):\n",
    "        for agent in all_agents:\n",
    "            if (agent.ptype == \"Prey\") and (agent.age < agent.age_limit) and not (agent.is_caught):\n",
    "                if (self.get_distance(agent) < self.catch_radius) and (np.random.random() < agent.catch_probability):\n",
    "                    agent.is_caught = True\n",
    "                    return agent      \n",
    "        return False"
   ]
  },
  {
   "cell_type": "markdown",
   "metadata": {},
   "source": [
    "### 2.3 (5 Points)\n",
    "\n",
    "**Repeat problem 1.5, replacing the generic prey with the `Mice` animals, and the generic predators with the `Hawk` animals.**"
   ]
  },
  {
   "cell_type": "code",
   "execution_count": 58,
   "metadata": {},
   "outputs": [
    {
     "data": {
      "image/png": "[encoded data removed]",
      "text/plain": [
       "<Figure size 432x432 with 1 Axes>"
      ]
     },
     "metadata": {
      "needs_background": "light"
     },
     "output_type": "display_data"
    },
    {
     "data": {
      "image/png": "[encoded data removed]",
      "text/plain": [
       "<Figure size 432x288 with 1 Axes>"
      ]
     },
     "metadata": {
      "needs_background": "light"
     },
     "output_type": "display_data"
    }
   ],
   "source": [
    "#Write your code here\n",
    "# New Environment\n",
    "NE = Environment()\n",
    "\n",
    "p1 = Mouse(sex=\"F\")\n",
    "p1.set_allele(1,1)\n",
    "p2 = Mouse(sex=\"M\")\n",
    "p2.set_allele(0,0)\n",
    "p3 = Mouse(sex=\"F\")\n",
    "p3.set_allele(1,1)\n",
    "p4 = Mouse(sex=\"M\")\n",
    "p4.set_allele(0,0)\n",
    "p5 = Mouse(sex=\"F\")\n",
    "p5.set_allele(1,1)\n",
    "p6 = Mouse(sex = \"M\")\n",
    "p6.set_allele(0,0)\n",
    "p7 = Mouse(sex=\"F\")\n",
    "p7.set_allele(1,1)\n",
    "p8 = Mouse(sex=\"M\")\n",
    "p8.set_allele(0,0)\n",
    "p9 = Mouse(sex=\"F\")\n",
    "p9.set_allele(1,1)\n",
    "p10 = Mouse(sex=\"M\")\n",
    "p10.set_allele(0,0)\n",
    "p11 = Mouse(sex=\"F\")\n",
    "p11.set_allele(1,1)\n",
    "p12 = Mouse(sex=\"M\")\n",
    "p12.set_allele(0,0)\n",
    "p13 = Mouse(sex=\"F\")\n",
    "p13.set_allele(1,1)\n",
    "p14 = Mouse(sex=\"M\")\n",
    "p14.set_allele(0,0)\n",
    "p15 = Mouse(sex=\"F\")\n",
    "p15.set_allele(1,1)\n",
    "p16 = Mouse(sex=\"M\")\n",
    "p16.set_allele(0,0)\n",
    "\n",
    "h1 = Hawk(ptype = 'Predator', shape = 'P', color = 'red')\n",
    "h2 = Hawk(ptype = 'Predator', shape = 'P', color = 'red')\n",
    "h3 = Hawk(ptype = 'Predator', shape = 'P', color = 'red')\n",
    "h4 = Hawk(ptype = 'Predator', shape = 'P', color = 'red')\n",
    "\n",
    "NE.add_agent(p1)\n",
    "NE.add_agent(p2)\n",
    "NE.add_agent(p3)\n",
    "NE.add_agent(p4)\n",
    "NE.add_agent(p5)\n",
    "NE.add_agent(p6)\n",
    "NE.add_agent(p7)\n",
    "NE.add_agent(p8)\n",
    "NE.add_agent(p9)\n",
    "NE.add_agent(p10)\n",
    "NE.add_agent(p11)\n",
    "NE.add_agent(p12)\n",
    "NE.add_agent(p13)\n",
    "NE.add_agent(p14)\n",
    "NE.add_agent(p15)\n",
    "NE.add_agent(p16)\n",
    "NE.add_agent(h1)\n",
    "NE.add_agent(h2)\n",
    "NE.add_agent(h3)\n",
    "NE.add_agent(h4)\n",
    "\n",
    "NE.simulate(20)\n",
    "NE.simulate_plot_populations(20)"
   ]
  },
  {
   "cell_type": "markdown",
   "metadata": {},
   "source": [
    "### 2.4 (5 Points)\n",
    "\n",
    "**Describe the differences between your results using the `Hawk` and `Mouse` class and the results from part 1.5. If and how does this model capture the effects of natural selection?**"
   ]
  },
  {
   "cell_type": "markdown",
   "metadata": {},
   "source": [
    "In this section, my result can show the rise in the population. In the `Mouse` class, we reset the caught possibility of the light brown mouse and dark brown mouse, which means that it's easier for hawks to catch light brown mouse than dark brown mouse. The amount of the dark brown mouse doesn't change significantly because their color is closer to the nature, which provides them the cover avoid being caught by the hawks. This model captures the effects of natural selection by representing the evolution of mice of different colors in the environment of survival in the wild. Because darker fur is less likely to be detected, dark brown mice have a greater chance of survival and, in turn, more dark brown mice will reproduce in the next generation. So repeatedly, natural selection has preserved this stable gene."
   ]
  },
  {
   "cell_type": "markdown",
   "metadata": {},
   "source": [
    "---\n",
    "### &#128721; STOP\n",
    "**Pause to commit your changes and push to your Git repository!**\n",
    "\n",
    "## Git push, and then merge your `hw03_branch` into your `main` branch."
   ]
  },
  {
   "cell_type": "markdown",
   "metadata": {},
   "source": []
  },
  {
   "cell_type": "code",
   "execution_count": null,
   "metadata": {},
   "outputs": [],
   "source": []
  }
 ],
 "metadata": {
  "kernelspec": {
   "display_name": "Python 3",
   "language": "python",
   "name": "python3"
  },
  "language_info": {
   "codemirror_mode": {
    "name": "ipython",
    "version": 3
   },
   "file_extension": ".py",
   "mimetype": "text/x-python",
   "name": "python",
   "nbconvert_exporter": "python",
   "pygments_lexer": "ipython3",
   "version": "3.8.8"
  }
 },
 "nbformat": 4,
 "nbformat_minor": 2
}
